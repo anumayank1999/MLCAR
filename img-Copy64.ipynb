{
 "cells": [
  {
   "cell_type": "markdown",
   "metadata": {
    "colab_type": "text",
    "id": "3DR-eO17geWu"
   },
   "source": [
    "# Convolutional Neural Network"
   ]
  },
  {
   "cell_type": "markdown",
   "metadata": {
    "colab_type": "text",
    "id": "EMefrVPCg-60"
   },
   "source": [
    "### Importing the libraries"
   ]
  },
  {
   "cell_type": "code",
   "execution_count": 32,
   "metadata": {
    "colab": {},
    "colab_type": "code",
    "id": "sCV30xyVhFbE"
   },
   "outputs": [],
   "source": [
    "import tensorflow as tf\n",
    "\n",
    "from keras.preprocessing.image import ImageDataGenerator"
   ]
  },
  {
   "cell_type": "code",
   "execution_count": 33,
   "metadata": {
    "colab": {},
    "colab_type": "code",
    "id": "FIleuCAjoFD8"
   },
   "outputs": [
    {
     "data": {
      "text/plain": [
       "'2.9.1'"
      ]
     },
     "execution_count": 33,
     "metadata": {},
     "output_type": "execute_result"
    }
   ],
   "source": [
    "tf.__version__"
   ]
  },
  {
   "cell_type": "markdown",
   "metadata": {
    "colab_type": "text",
    "id": "oxQxCBWyoGPE"
   },
   "source": [
    "## Part 1 - Data Preprocessing"
   ]
  },
  {
   "cell_type": "markdown",
   "metadata": {
    "colab_type": "text",
    "id": "MvE-heJNo3GG"
   },
   "source": [
    "### Preprocessing the Training set"
   ]
  },
  {
   "cell_type": "code",
   "execution_count": 34,
   "metadata": {
    "colab": {},
    "colab_type": "code",
    "id": "0koUcJMJpEBD"
   },
   "outputs": [
    {
     "name": "stdout",
     "output_type": "stream",
     "text": [
      "Found 20000 images belonging to 5 classes.\n"
     ]
    }
   ],
   "source": [
    "train_datagen = ImageDataGenerator(rescale = 1./255,\n",
    "                                   shear_range = 0.2,\n",
    "                                   zoom_range = 0.2,\n",
    "                                   horizontal_flip = True)\n",
    "training_set = train_datagen.flow_from_directory('G:/anumayank/cogni/p2',\n",
    "                                                 target_size = (64, 64),\n",
    "                                                 batch_size = 32,\n",
    "                                                 class_mode = 'categorical')\n"
   ]
  },
  {
   "cell_type": "markdown",
   "metadata": {
    "colab_type": "text",
    "id": "mrCMmGw9pHys"
   },
   "source": [
    "### Preprocessing the Test set"
   ]
  },
  {
   "cell_type": "code",
   "execution_count": 35,
   "metadata": {
    "colab": {},
    "colab_type": "code",
    "id": "SH4WzfOhpKc3"
   },
   "outputs": [
    {
     "name": "stdout",
     "output_type": "stream",
     "text": [
      "Found 5000 images belonging to 5 classes.\n"
     ]
    }
   ],
   "source": [
    "test_datagen = ImageDataGenerator(rescale = 1./255)\n",
    "test_set = test_datagen.flow_from_directory('G:/anumayank/cogni/p2_train',\n",
    "                                            target_size = (64, 64),\n",
    "                                            batch_size = 32,\n",
    "                                            class_mode = 'categorical')"
   ]
  },
  {
   "cell_type": "markdown",
   "metadata": {
    "colab_type": "text",
    "id": "af8O4l90gk7B"
   },
   "source": [
    "## Part 2 - Building the CNN"
   ]
  },
  {
   "cell_type": "markdown",
   "metadata": {
    "colab_type": "text",
    "id": "ces1gXY2lmoX"
   },
   "source": [
    "### Initialising the CNN"
   ]
  },
  {
   "cell_type": "code",
   "execution_count": 36,
   "metadata": {
    "colab": {},
    "colab_type": "code",
    "id": "SAUt4UMPlhLS"
   },
   "outputs": [],
   "source": [
    "cnn = tf.keras.models.Sequential()"
   ]
  },
  {
   "cell_type": "markdown",
   "metadata": {
    "colab_type": "text",
    "id": "u5YJj_XMl5LF"
   },
   "source": [
    "### Step 1 - Convolution"
   ]
  },
  {
   "cell_type": "code",
   "execution_count": 37,
   "metadata": {
    "colab": {},
    "colab_type": "code",
    "id": "XPzPrMckl-hV"
   },
   "outputs": [],
   "source": [
    "cnn.add(tf.keras.layers.Conv2D(filters=32, kernel_size=3, activation='relu', input_shape=[64, 64, 3]))"
   ]
  },
  {
   "cell_type": "markdown",
   "metadata": {
    "colab_type": "text",
    "id": "tf87FpvxmNOJ"
   },
   "source": [
    "### Step 2 - Pooling"
   ]
  },
  {
   "cell_type": "code",
   "execution_count": 38,
   "metadata": {
    "colab": {},
    "colab_type": "code",
    "id": "ncpqPl69mOac"
   },
   "outputs": [],
   "source": [
    "cnn.add(tf.keras.layers.MaxPool2D(pool_size=2, strides=2))"
   ]
  },
  {
   "cell_type": "markdown",
   "metadata": {
    "colab_type": "text",
    "id": "xaTOgD8rm4mU"
   },
   "source": [
    "### Adding a second convolutional layer"
   ]
  },
  {
   "cell_type": "code",
   "execution_count": 39,
   "metadata": {
    "colab": {},
    "colab_type": "code",
    "id": "i_-FZjn_m8gk"
   },
   "outputs": [],
   "source": [
    "cnn.add(tf.keras.layers.Conv2D(filters=32, kernel_size=4, activation='relu'))\n",
    "cnn.add(tf.keras.layers.MaxPool2D(pool_size=2, strides=2))"
   ]
  },
  {
   "cell_type": "markdown",
   "metadata": {
    "colab_type": "text",
    "id": "tmiEuvTunKfk"
   },
   "source": [
    "### Step 3 - Flattening"
   ]
  },
  {
   "cell_type": "code",
   "execution_count": 40,
   "metadata": {
    "colab": {},
    "colab_type": "code",
    "id": "6AZeOGCvnNZn"
   },
   "outputs": [],
   "source": [
    "cnn.add(tf.keras.layers.Flatten())"
   ]
  },
  {
   "cell_type": "markdown",
   "metadata": {
    "colab_type": "text",
    "id": "dAoSECOm203v"
   },
   "source": [
    "### Step 4 - Full Connection"
   ]
  },
  {
   "cell_type": "code",
   "execution_count": 41,
   "metadata": {
    "colab": {},
    "colab_type": "code",
    "id": "8GtmUlLd26Nq"
   },
   "outputs": [],
   "source": [
    "cnn.add(tf.keras.layers.Dense(units=5, activation='relu'))\n",
    "cnn.add(tf.keras.layers.Dense(units=15, activation='relu'))\n",
    "#cnn.add(tf.keras.layers.Dense(units=25, activation='relu'))\n",
    "#cnn.add(tf.keras.layers.Dense(units=25, activation='relu'))\n",
    "\n",
    "cnn.add(tf.keras.layers.Dense(units=15, activation='relu'))"
   ]
  },
  {
   "cell_type": "markdown",
   "metadata": {
    "colab_type": "text",
    "id": "yTldFvbX28Na"
   },
   "source": [
    "### Step 5 - Output Layer"
   ]
  },
  {
   "cell_type": "code",
   "execution_count": 42,
   "metadata": {
    "colab": {},
    "colab_type": "code",
    "id": "1p_Zj1Mc3Ko_"
   },
   "outputs": [],
   "source": [
    "cnn.add(tf.keras.layers.Dense(units=5, activation='softmax'))"
   ]
  },
  {
   "cell_type": "markdown",
   "metadata": {
    "colab_type": "text",
    "id": "D6XkI90snSDl"
   },
   "source": [
    "## Part 3 - Training the CNN"
   ]
  },
  {
   "cell_type": "markdown",
   "metadata": {
    "colab_type": "text",
    "id": "vfrFQACEnc6i"
   },
   "source": [
    "### Compiling the CNN"
   ]
  },
  {
   "cell_type": "code",
   "execution_count": 43,
   "metadata": {
    "colab": {},
    "colab_type": "code",
    "id": "NALksrNQpUlJ"
   },
   "outputs": [],
   "source": [
    "cnn.compile(optimizer = 'adam', loss = 'categorical_crossentropy', metrics = ['accuracy'])"
   ]
  },
  {
   "cell_type": "markdown",
   "metadata": {
    "colab_type": "text",
    "id": "ehS-v3MIpX2h"
   },
   "source": [
    "### Training the CNN on the Training set and evaluating it on the Test set"
   ]
  },
  {
   "cell_type": "code",
   "execution_count": 44,
   "metadata": {},
   "outputs": [],
   "source": [
    "#test_set = tf.keras.utils.to_categorical(test_set, 3)\n"
   ]
  },
  {
   "cell_type": "code",
   "execution_count": 45,
   "metadata": {
    "colab": {},
    "colab_type": "code",
    "id": "XUj1W4PJptta"
   },
   "outputs": [
    {
     "name": "stdout",
     "output_type": "stream",
     "text": [
      "Epoch 1/32\n",
      "625/625 [==============================] - 1574s 3s/step - loss: 0.8328 - accuracy: 0.6244 - val_loss: 0.5116 - val_accuracy: 0.7894\n",
      "Epoch 2/32\n",
      "625/625 [==============================] - 1384s 2s/step - loss: 0.5079 - accuracy: 0.7856 - val_loss: 0.5491 - val_accuracy: 0.7830\n",
      "Epoch 3/32\n",
      "625/625 [==============================] - 1190s 2s/step - loss: 0.4581 - accuracy: 0.8033 - val_loss: 0.6023 - val_accuracy: 0.7668\n",
      "Epoch 4/32\n",
      "625/625 [==============================] - 1165s 2s/step - loss: 0.4386 - accuracy: 0.8101 - val_loss: 0.5720 - val_accuracy: 0.7798\n",
      "Epoch 5/32\n",
      "625/625 [==============================] - 989s 2s/step - loss: 0.4132 - accuracy: 0.8242 - val_loss: 0.4630 - val_accuracy: 0.8096\n",
      "Epoch 6/32\n",
      "625/625 [==============================] - 1061s 2s/step - loss: 0.3888 - accuracy: 0.8335 - val_loss: 0.3348 - val_accuracy: 0.8612\n",
      "Epoch 7/32\n",
      "625/625 [==============================] - 1096s 2s/step - loss: 0.3547 - accuracy: 0.8547 - val_loss: 0.4252 - val_accuracy: 0.8300\n",
      "Epoch 8/32\n",
      "625/625 [==============================] - 1201s 2s/step - loss: 0.3423 - accuracy: 0.8612 - val_loss: 0.3056 - val_accuracy: 0.8788\n",
      "Epoch 9/32\n",
      "625/625 [==============================] - 1282s 2s/step - loss: 0.3121 - accuracy: 0.8747 - val_loss: 0.3736 - val_accuracy: 0.8426\n",
      "Epoch 10/32\n",
      "625/625 [==============================] - 1208s 2s/step - loss: 0.2975 - accuracy: 0.8833 - val_loss: 0.3629 - val_accuracy: 0.8548\n",
      "Epoch 11/32\n",
      "625/625 [==============================] - 1452s 2s/step - loss: 0.2707 - accuracy: 0.8930 - val_loss: 0.2670 - val_accuracy: 0.9020\n",
      "Epoch 12/32\n",
      "625/625 [==============================] - 1142s 2s/step - loss: 0.2569 - accuracy: 0.9028 - val_loss: 0.5569 - val_accuracy: 0.8038\n",
      "Epoch 13/32\n",
      "625/625 [==============================] - 1211s 2s/step - loss: 0.2393 - accuracy: 0.9089 - val_loss: 0.2637 - val_accuracy: 0.8982\n",
      "Epoch 14/32\n",
      "625/625 [==============================] - 1170s 2s/step - loss: 0.2270 - accuracy: 0.9148 - val_loss: 0.3950 - val_accuracy: 0.8464\n",
      "Epoch 15/32\n",
      "625/625 [==============================] - 1150s 2s/step - loss: 0.2102 - accuracy: 0.9226 - val_loss: 0.5098 - val_accuracy: 0.8184\n",
      "Epoch 16/32\n",
      "625/625 [==============================] - 1134s 2s/step - loss: 0.1918 - accuracy: 0.9287 - val_loss: 0.5948 - val_accuracy: 0.8052\n",
      "Epoch 17/32\n",
      "625/625 [==============================] - 1236s 2s/step - loss: 0.1848 - accuracy: 0.9329 - val_loss: 0.2185 - val_accuracy: 0.9216\n",
      "Epoch 18/32\n",
      "625/625 [==============================] - 1187s 2s/step - loss: 0.1664 - accuracy: 0.9388 - val_loss: 0.4826 - val_accuracy: 0.8340\n",
      "Epoch 19/32\n",
      "625/625 [==============================] - 1231s 2s/step - loss: 0.1594 - accuracy: 0.9430 - val_loss: 0.2199 - val_accuracy: 0.9244\n",
      "Epoch 20/32\n",
      "625/625 [==============================] - 1214s 2s/step - loss: 0.1602 - accuracy: 0.9421 - val_loss: 0.3242 - val_accuracy: 0.8972\n",
      "Epoch 21/32\n",
      "625/625 [==============================] - 1261s 2s/step - loss: 0.1516 - accuracy: 0.9441 - val_loss: 0.1636 - val_accuracy: 0.9466\n",
      "Epoch 22/32\n",
      "625/625 [==============================] - 1277s 2s/step - loss: 0.1374 - accuracy: 0.9493 - val_loss: 0.3223 - val_accuracy: 0.9044\n",
      "Epoch 23/32\n",
      "625/625 [==============================] - 1126s 2s/step - loss: 0.1498 - accuracy: 0.9457 - val_loss: 0.2905 - val_accuracy: 0.9014\n",
      "Epoch 24/32\n",
      "625/625 [==============================] - 1346s 2s/step - loss: 0.1189 - accuracy: 0.9574 - val_loss: 0.3049 - val_accuracy: 0.9034\n",
      "Epoch 25/32\n",
      "625/625 [==============================] - 1302s 2s/step - loss: 0.1319 - accuracy: 0.9524 - val_loss: 0.4018 - val_accuracy: 0.8768\n",
      "Epoch 26/32\n",
      "625/625 [==============================] - 1593s 3s/step - loss: 0.1208 - accuracy: 0.9560 - val_loss: 0.1250 - val_accuracy: 0.9586\n",
      "Epoch 27/32\n",
      "625/625 [==============================] - 1509s 2s/step - loss: 0.1169 - accuracy: 0.9562 - val_loss: 0.1845 - val_accuracy: 0.9364\n",
      "Epoch 28/32\n",
      "625/625 [==============================] - 1487s 2s/step - loss: 0.1108 - accuracy: 0.9589 - val_loss: 0.1047 - val_accuracy: 0.9674\n",
      "Epoch 29/32\n",
      "625/625 [==============================] - 1187s 2s/step - loss: 0.1051 - accuracy: 0.9613 - val_loss: 0.1171 - val_accuracy: 0.9594\n",
      "Epoch 30/32\n",
      "625/625 [==============================] - 1315s 2s/step - loss: 0.1155 - accuracy: 0.9572 - val_loss: 0.3558 - val_accuracy: 0.8870\n",
      "Epoch 31/32\n",
      "625/625 [==============================] - 1614s 3s/step - loss: 0.0992 - accuracy: 0.9625 - val_loss: 0.2556 - val_accuracy: 0.9106\n",
      "Epoch 32/32\n",
      "625/625 [==============================] - 1140s 2s/step - loss: 0.0963 - accuracy: 0.9636 - val_loss: 0.4162 - val_accuracy: 0.8846\n"
     ]
    },
    {
     "data": {
      "text/plain": [
       "<keras.callbacks.History at 0x1d1edc39490>"
      ]
     },
     "execution_count": 45,
     "metadata": {},
     "output_type": "execute_result"
    }
   ],
   "source": [
    "\n",
    "cnn.fit(x = training_set, validation_data = test_set, epochs = 32)"
   ]
  },
  {
   "cell_type": "markdown",
   "metadata": {
    "colab_type": "text",
    "id": "U3PZasO0006Z"
   },
   "source": [
    "## Part 4 - Making a single prediction"
   ]
  },
  {
   "cell_type": "code",
   "execution_count": 46,
   "metadata": {},
   "outputs": [
    {
     "data": {
      "text/plain": [
       "{'colon_aca': 0, 'colon_n': 1, 'lung_aca': 2, 'lung_n': 3, 'lung_scc': 4}"
      ]
     },
     "execution_count": 46,
     "metadata": {},
     "output_type": "execute_result"
    }
   ],
   "source": [
    "training_set.class_indices\n"
   ]
  },
  {
   "cell_type": "code",
   "execution_count": 4,
   "metadata": {
    "colab": {},
    "colab_type": "code",
    "id": "gsSiWEJY1BPB"
   },
   "outputs": [
    {
     "ename": "NameError",
     "evalue": "name 'tf' is not defined",
     "output_type": "error",
     "traceback": [
      "\u001b[1;31m---------------------------------------------------------------------------\u001b[0m",
      "\u001b[1;31mNameError\u001b[0m                                 Traceback (most recent call last)",
      "\u001b[1;32m~\\AppData\\Local\\Temp/ipykernel_4844/3314342050.py\u001b[0m in \u001b[0;36m<module>\u001b[1;34m\u001b[0m\n\u001b[0;32m      1\u001b[0m \u001b[1;32mimport\u001b[0m \u001b[0mnumpy\u001b[0m \u001b[1;32mas\u001b[0m \u001b[0mnp\u001b[0m\u001b[1;33m\u001b[0m\u001b[1;33m\u001b[0m\u001b[0m\n\u001b[0;32m      2\u001b[0m \u001b[1;32mfrom\u001b[0m \u001b[0mkeras\u001b[0m\u001b[1;33m.\u001b[0m\u001b[0mpreprocessing\u001b[0m \u001b[1;32mimport\u001b[0m \u001b[0mimage\u001b[0m\u001b[1;33m\u001b[0m\u001b[1;33m\u001b[0m\u001b[0m\n\u001b[1;32m----> 3\u001b[1;33m \u001b[0mtest_image\u001b[0m \u001b[1;33m=\u001b[0m \u001b[0mtf\u001b[0m\u001b[1;33m.\u001b[0m\u001b[0mkeras\u001b[0m\u001b[1;33m.\u001b[0m\u001b[0mutils\u001b[0m\u001b[1;33m.\u001b[0m\u001b[0mload_img\u001b[0m\u001b[1;33m(\u001b[0m\u001b[1;34m'G:/anumayank/cogni/p3_s/1.jpeg'\u001b[0m\u001b[1;33m,\u001b[0m \u001b[0mtarget_size\u001b[0m \u001b[1;33m=\u001b[0m \u001b[1;33m(\u001b[0m\u001b[1;36m64\u001b[0m\u001b[1;33m,\u001b[0m \u001b[1;36m64\u001b[0m\u001b[1;33m)\u001b[0m\u001b[1;33m)\u001b[0m\u001b[1;33m\u001b[0m\u001b[1;33m\u001b[0m\u001b[0m\n\u001b[0m\u001b[0;32m      4\u001b[0m \u001b[0mtest_image\u001b[0m \u001b[1;33m=\u001b[0m \u001b[0mtf\u001b[0m\u001b[1;33m.\u001b[0m\u001b[0mkeras\u001b[0m\u001b[1;33m.\u001b[0m\u001b[0mutils\u001b[0m\u001b[1;33m.\u001b[0m\u001b[0mimg_to_array\u001b[0m\u001b[1;33m(\u001b[0m\u001b[0mtest_image\u001b[0m\u001b[1;33m)\u001b[0m\u001b[1;33m\u001b[0m\u001b[1;33m\u001b[0m\u001b[0m\n\u001b[0;32m      5\u001b[0m \u001b[0mtest_image\u001b[0m \u001b[1;33m=\u001b[0m \u001b[0mnp\u001b[0m\u001b[1;33m.\u001b[0m\u001b[0mexpand_dims\u001b[0m\u001b[1;33m(\u001b[0m\u001b[0mtest_image\u001b[0m\u001b[1;33m,\u001b[0m \u001b[0maxis\u001b[0m \u001b[1;33m=\u001b[0m \u001b[1;36m0\u001b[0m\u001b[1;33m)\u001b[0m\u001b[1;33m\u001b[0m\u001b[1;33m\u001b[0m\u001b[0m\n",
      "\u001b[1;31mNameError\u001b[0m: name 'tf' is not defined"
     ]
    }
   ],
   "source": [
    "import numpy as np\n",
    "from keras.preprocessing import image\n",
    "test_image = tf.keras.utils.load_img('G:/anumayank/cogni/p3_s/1.jpeg', target_size = (64, 64))\n",
    "test_image = tf.keras.utils.img_to_array(test_image)\n",
    "test_image = np.expand_dims(test_image, axis = 0)\n",
    "result = cnn.predict(x=test_image)\n",
    "#training_set.class_indices\n"
   ]
  },
  {
   "cell_type": "code",
   "execution_count": 3,
   "metadata": {
    "colab": {},
    "colab_type": "code",
    "id": "ED9KB3I54c1i"
   },
   "outputs": [
    {
     "ename": "NameError",
     "evalue": "name 'result' is not defined",
     "output_type": "error",
     "traceback": [
      "\u001b[1;31m---------------------------------------------------------------------------\u001b[0m",
      "\u001b[1;31mNameError\u001b[0m                                 Traceback (most recent call last)",
      "\u001b[1;32m~\\AppData\\Local\\Temp/ipykernel_4844/598931594.py\u001b[0m in \u001b[0;36m<module>\u001b[1;34m\u001b[0m\n\u001b[1;32m----> 1\u001b[1;33m \u001b[0mprint\u001b[0m\u001b[1;33m(\u001b[0m\u001b[0mresult\u001b[0m\u001b[1;33m)\u001b[0m\u001b[1;33m\u001b[0m\u001b[1;33m\u001b[0m\u001b[0m\n\u001b[0m",
      "\u001b[1;31mNameError\u001b[0m: name 'result' is not defined"
     ]
    }
   ],
   "source": [
    "print(result)\n",
    "if result[0][0]==1:\n",
    "    print('Lung benign tissue detected')\n",
    "elif result[0][1]==1:\n",
    "    print('Lung adenocarcinoma detected')\n",
    "elif result[0][2]==1:\n",
    "    print('Lung squamous cell carcinoma detected')\n",
    "elif result[0][3]==1:\n",
    "    print('Colon adenocarcinoma detected')\n",
    "elif result[0][4]==1:\n",
    "    print('Colon benign tissue detected')\n",
    "else:\n",
    "    print('plz retry no problem detected')"
   ]
  },
  {
   "cell_type": "code",
   "execution_count": 50,
   "metadata": {},
   "outputs": [
    {
     "name": "stdout",
     "output_type": "stream",
     "text": [
      "157/157 [==============================] - 354s 2s/step - loss: 0.4162 - accuracy: 0.8846\n"
     ]
    }
   ],
   "source": [
    "res=cnn.evaluate(test_set)"
   ]
  },
  {
   "cell_type": "code",
   "execution_count": 75,
   "metadata": {},
   "outputs": [],
   "source": [
    "cnn.save(\"model64.h5\")"
   ]
  },
  {
   "cell_type": "code",
   "execution_count": 74,
   "metadata": {},
   "outputs": [
    {
     "name": "stdout",
     "output_type": "stream",
     "text": [
      "Model: \"sequential_3\"\n",
      "_________________________________________________________________\n",
      " Layer (type)                Output Shape              Param #   \n",
      "=================================================================\n",
      " conv2d_5 (Conv2D)           (None, 62, 62, 32)        896       \n",
      "                                                                 \n",
      " max_pooling2d_4 (MaxPooling  (None, 31, 31, 32)       0         \n",
      " 2D)                                                             \n",
      "                                                                 \n",
      " conv2d_6 (Conv2D)           (None, 28, 28, 32)        16416     \n",
      "                                                                 \n",
      " max_pooling2d_5 (MaxPooling  (None, 14, 14, 32)       0         \n",
      " 2D)                                                             \n",
      "                                                                 \n",
      " flatten_2 (Flatten)         (None, 6272)              0         \n",
      "                                                                 \n",
      " dense_8 (Dense)             (None, 5)                 31365     \n",
      "                                                                 \n",
      " dense_9 (Dense)             (None, 15)                90        \n",
      "                                                                 \n",
      " dense_10 (Dense)            (None, 15)                240       \n",
      "                                                                 \n",
      " dense_11 (Dense)            (None, 5)                 80        \n",
      "                                                                 \n",
      "=================================================================\n",
      "Total params: 49,087\n",
      "Trainable params: 49,087\n",
      "Non-trainable params: 0\n",
      "_________________________________________________________________\n"
     ]
    }
   ],
   "source": [
    "cnn.summary()"
   ]
  },
  {
   "cell_type": "code",
   "execution_count": 1,
   "metadata": {},
   "outputs": [],
   "source": [
    "from keras.models import load_model\n",
    " \n",
    "# load model\n",
    "model = load_model('model64.h5')"
   ]
  },
  {
   "cell_type": "code",
   "execution_count": 77,
   "metadata": {},
   "outputs": [
    {
     "name": "stdout",
     "output_type": "stream",
     "text": [
      "Model: \"sequential_3\"\n",
      "_________________________________________________________________\n",
      " Layer (type)                Output Shape              Param #   \n",
      "=================================================================\n",
      " conv2d_5 (Conv2D)           (None, 62, 62, 32)        896       \n",
      "                                                                 \n",
      " max_pooling2d_4 (MaxPooling  (None, 31, 31, 32)       0         \n",
      " 2D)                                                             \n",
      "                                                                 \n",
      " conv2d_6 (Conv2D)           (None, 28, 28, 32)        16416     \n",
      "                                                                 \n",
      " max_pooling2d_5 (MaxPooling  (None, 14, 14, 32)       0         \n",
      " 2D)                                                             \n",
      "                                                                 \n",
      " flatten_2 (Flatten)         (None, 6272)              0         \n",
      "                                                                 \n",
      " dense_8 (Dense)             (None, 5)                 31365     \n",
      "                                                                 \n",
      " dense_9 (Dense)             (None, 15)                90        \n",
      "                                                                 \n",
      " dense_10 (Dense)            (None, 15)                240       \n",
      "                                                                 \n",
      " dense_11 (Dense)            (None, 5)                 80        \n",
      "                                                                 \n",
      "=================================================================\n",
      "Total params: 49,087\n",
      "Trainable params: 49,087\n",
      "Non-trainable params: 0\n",
      "_________________________________________________________________\n"
     ]
    }
   ],
   "source": [
    "model.summary()"
   ]
  },
  {
   "cell_type": "code",
   "execution_count": null,
   "metadata": {},
   "outputs": [],
   "source": []
  }
 ],
 "metadata": {
  "colab": {
   "collapsed_sections": [],
   "name": "convolutional_neural_network.ipynb",
   "provenance": [],
   "toc_visible": true
  },
  "kernelspec": {
   "display_name": "Python 3 (ipykernel)",
   "language": "python",
   "name": "python3"
  },
  "language_info": {
   "codemirror_mode": {
    "name": "ipython",
    "version": 3
   },
   "file_extension": ".py",
   "mimetype": "text/x-python",
   "name": "python",
   "nbconvert_exporter": "python",
   "pygments_lexer": "ipython3",
   "version": "3.9.16"
  }
 },
 "nbformat": 4,
 "nbformat_minor": 1
}
